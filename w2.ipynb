{
 "cells": [
  {
   "cell_type": "code",
   "execution_count": null,
   "id": "60c9df4e",
   "metadata": {},
   "outputs": [
    {
     "name": "stdout",
     "output_type": "stream",
     "text": [
      "enter the number of elements to be entered: 4\n",
      "enter number: 32\n",
      "enter number: 67\n",
      "enter number: 1\n",
      "enter number: 54\n",
      "the sum of all the elements is 154\n",
      "the average of all elements is 38.5\n"
     ]
    }
   ],
   "source": [
    "#adarsh yerneni\n",
    "\n",
    "\n",
    "\n",
    "list=[]                                                                 #question1\n",
    "n = int(input(\"enter the number of elements to be entered: \"))\n",
    "for x in range(1,n+1):\n",
    "    num = int(input(\"enter number: \"))\n",
    "    list.append(num)\n",
    "    list.sort()\n",
    "print(f\"the sum of all the elements is {sum(list)}\")\n",
    "print(f\"the average of all elements is {sum(list)/len(list)}\")\n"
   ]
  },
  {
   "cell_type": "code",
   "execution_count": 9,
   "id": "c333723f",
   "metadata": {},
   "outputs": [
    {
     "name": "stdout",
     "output_type": "stream",
     "text": [
      "the largest element is 67\n"
     ]
    }
   ],
   "source": [
    "print(f\"the largest element is {list[-1]}\")"
   ]
  },
  {
   "cell_type": "code",
   "execution_count": 10,
   "id": "f328ca59",
   "metadata": {},
   "outputs": [
    {
     "name": "stdout",
     "output_type": "stream",
     "text": [
      "the smallest number is 1\n"
     ]
    }
   ],
   "source": [
    "print(f\"the smallest number is {list[0]}\")"
   ]
  },
  {
   "cell_type": "code",
   "execution_count": 13,
   "id": "1e3a9061",
   "metadata": {},
   "outputs": [
    {
     "data": {
      "text/plain": [
       "(1, 1)"
      ]
     },
     "execution_count": 13,
     "metadata": {},
     "output_type": "execute_result"
    }
   ],
   "source": [
    "list.count(67) , list.count(32)"
   ]
  },
  {
   "cell_type": "code",
   "execution_count": 3,
   "id": "d74669a7-5324-4925-b4e9-f804de14284c",
   "metadata": {},
   "outputs": [
    {
     "data": {
      "text/plain": [
       "list"
      ]
     },
     "execution_count": 3,
     "metadata": {},
     "output_type": "execute_result"
    }
   ],
   "source": []
  },
  {
   "cell_type": "code",
   "execution_count": 2,
   "id": "13d16427",
   "metadata": {},
   "outputs": [
    {
     "name": "stdout",
     "output_type": "stream",
     "text": [
      "Error: 'tuple' object does not support item assignment\n",
      "Explanation: Tuples are immutable, which means their elements cannot be changed after they are created.\n"
     ]
    }
   ],
   "source": [
    "#question2\n",
    "my_tuple = (1, 2, 3, 4, 5)\n",
    "\n",
    "try:\n",
    "    \n",
    "    my_tuple[0] = 10\n",
    "except TypeError as e:\n",
    "\n",
    "    print(\"Error:\", e)\n",
    "    print(\"Explanation: Tuples are immutable, which means their elements cannot be changed after they are created.\")\n"
   ]
  },
  {
   "cell_type": "code",
   "execution_count": 2,
   "id": "0811f5e2-5cf1-4502-b640-4ba61ea278db",
   "metadata": {},
   "outputs": [
    {
     "data": {
      "text/plain": [
       "'Australia'"
      ]
     },
     "execution_count": 2,
     "metadata": {},
     "output_type": "execute_result"
    }
   ],
   "source": [
    "#question3\n",
    "\n",
    "world_cup_winners = {\n",
    "    1975: \"West Indies\",\n",
    "    1979: \"West Indies\",\n",
    "    1983: \"India\",\n",
    "    1987: \"Australia\",\n",
    "    1992: \"Pakistan\",\n",
    "    1996: \"Sri Lanka\",\n",
    "    1999: \"Australia\",\n",
    "    2003: \"Australia\",\n",
    "    2007: \"Australia\",\n",
    "    2011: \"India\",\n",
    "    2015: \"Australia\",\n",
    "    2019: \"England\"\n",
    "}\n",
    "frequency={}\n",
    "for country in world_cup_winners.values():\n",
    "    if country in frequency:\n",
    "        frequency[country]+=1\n",
    "    else:\n",
    "        frequency[country]=1\n",
    "max_occurences=0\n",
    "most_occurring_country=None\n",
    "for country,count in frequency.items():\n",
    "    if count>max_occurences:\n",
    "        max_occurences=count\n",
    "        most_occurring_country=country\n",
    "\n",
    "most_occurring_country\n"
   ]
  },
  {
   "cell_type": "code",
   "execution_count": 6,
   "id": "666b3656-0e2e-4592-8909-4697733ecde5",
   "metadata": {},
   "outputs": [
    {
     "name": "stdout",
     "output_type": "stream",
     "text": [
      "enter a sentence:  hey hey hey how are youuu\n"
     ]
    },
    {
     "data": {
      "text/plain": [
       "{'hey': 3, 'how': 1, 'are': 1, 'youuu': 1}"
      ]
     },
     "execution_count": 6,
     "metadata": {},
     "output_type": "execute_result"
    }
   ],
   "source": [
    "#question 4\n",
    "sentence=str(input(\"enter a sentence: \"))\n",
    "frequency={}\n",
    "for word in sentence.split():\n",
    "    if word in frequency:\n",
    "        frequency[word]+=1\n",
    "    else:\n",
    "        frequency[word]=1\n",
    "frequency\n"
   ]
  },
  {
   "cell_type": "code",
   "execution_count": 5,
   "id": "0900c2b9-3dbe-44a7-b94d-8aea269655fd",
   "metadata": {},
   "outputs": [
    {
     "name": "stdout",
     "output_type": "stream",
     "text": [
      "enter numbers:  12 21 12\n",
      "enter numbers again:  2\n"
     ]
    }
   ],
   "source": [
    "#question 5\n",
    "set1 = set(map(int,input(\"enter numbers: \").split()))\n",
    "set2 = set(map(int,input(\"enter numbers again: \").split()))"
   ]
  },
  {
   "cell_type": "code",
   "execution_count": 6,
   "id": "a4805c12-1782-491d-80be-ee9e9276a9ee",
   "metadata": {},
   "outputs": [
    {
     "data": {
      "text/plain": [
       "set()"
      ]
     },
     "execution_count": 6,
     "metadata": {},
     "output_type": "execute_result"
    }
   ],
   "source": [
    "set1 & set2"
   ]
  },
  {
   "cell_type": "code",
   "execution_count": 7,
   "id": "30546197-7eea-4e51-9fdc-278ba41ba707",
   "metadata": {},
   "outputs": [
    {
     "data": {
      "text/plain": [
       "{2, 12, 21}"
      ]
     },
     "execution_count": 7,
     "metadata": {},
     "output_type": "execute_result"
    }
   ],
   "source": [
    "set1 | set2"
   ]
  },
  {
   "cell_type": "code",
   "execution_count": 8,
   "id": "c262a29d-d431-4991-a557-e635e9a3ed47",
   "metadata": {},
   "outputs": [
    {
     "data": {
      "text/plain": [
       "{12, 21}"
      ]
     },
     "execution_count": 8,
     "metadata": {},
     "output_type": "execute_result"
    }
   ],
   "source": [
    "set1-set2"
   ]
  },
  {
   "cell_type": "code",
   "execution_count": null,
   "id": "41fdb27a-83de-4343-a639-5ce80e3e3cbb",
   "metadata": {},
   "outputs": [],
   "source": []
  }
 ],
 "metadata": {
  "kernelspec": {
   "display_name": "Python 3 (ipykernel)",
   "language": "python",
   "name": "python3"
  },
  "language_info": {
   "codemirror_mode": {
    "name": "ipython",
    "version": 3
   },
   "file_extension": ".py",
   "mimetype": "text/x-python",
   "name": "python",
   "nbconvert_exporter": "python",
   "pygments_lexer": "ipython3",
   "version": "3.13.1"
  }
 },
 "nbformat": 4,
 "nbformat_minor": 5
}
