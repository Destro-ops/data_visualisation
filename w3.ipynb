{
 "cells": [
  {
   "cell_type": "code",
   "execution_count": 1,
   "id": "b0cd1de5-a288-46fd-bd7d-6b362b5546b8",
   "metadata": {},
   "outputs": [],
   "source": [
    "#Name: adarsh Yerneni\n",
    "\n",
    "\n",
    "\n",
    "\n",
    "\n",
    "\n",
    "import numpy as np"
   ]
  },
  {
   "cell_type": "code",
   "execution_count": 1,
   "id": "5e961595-edaf-46a0-b91b-11f62f955cbc",
   "metadata": {},
   "outputs": [
    {
     "data": {
      "text/plain": [
       "array([[42, 25, 43, 34],\n",
       "       [15, 39, 18, 16],\n",
       "       [49,  8, 11, 50]], dtype=int32)"
      ]
     },
     "execution_count": 1,
     "metadata": {},
     "output_type": "execute_result"
    }
   ],
   "source": [
    "#question1\n",
    "\n",
    "import numpy as np\n",
    "#np.random.seed()\n",
    "random_array = np.random.randint(0,51,size=(3,4)).astype(np.int32)\n",
    "random_array"
   ]
  },
  {
   "cell_type": "code",
   "execution_count": 10,
   "id": "07ef1cec-a5c5-498e-b871-ec914a46765f",
   "metadata": {},
   "outputs": [
    {
     "data": {
      "text/plain": [
       "np.float64(18.333333333333332)"
      ]
     },
     "execution_count": 10,
     "metadata": {},
     "output_type": "execute_result"
    }
   ],
   "source": [
    "np.mean(random_array)"
   ]
  },
  {
   "cell_type": "code",
   "execution_count": 12,
   "id": "4461ef98-3999-4753-9442-301652aed7e5",
   "metadata": {},
   "outputs": [
    {
     "data": {
      "text/plain": [
       "np.float64(13.5)"
      ]
     },
     "execution_count": 12,
     "metadata": {},
     "output_type": "execute_result"
    }
   ],
   "source": [
    "np.median(random_array)"
   ]
  },
  {
   "cell_type": "code",
   "execution_count": 13,
   "id": "118218c6-81d2-4dd1-8f75-e5c0c0af881d",
   "metadata": {},
   "outputs": [
    {
     "data": {
      "text/plain": [
       "'14.73'"
      ]
     },
     "execution_count": 13,
     "metadata": {},
     "output_type": "execute_result"
    }
   ],
   "source": [
    "std=np.std(random_array)\n",
    "formatted_number = \"{:.2f}\".format(std)\n",
    "formatted_number"
   ]
  },
  {
   "cell_type": "code",
   "execution_count": 17,
   "id": "e269ee53-389f-43d6-9591-842afa223d53",
   "metadata": {},
   "outputs": [
    {
     "data": {
      "text/plain": [
       "np.float64(220.0)"
      ]
     },
     "execution_count": 17,
     "metadata": {},
     "output_type": "execute_result"
    }
   ],
   "source": [
    "sumofele=0\n",
    "for rows in random_array:\n",
    "    for elements in rows:\n",
    "        sumofele+=elements\n",
    "        \n",
    "sumofele"
   ]
  },
  {
   "cell_type": "code",
   "execution_count": 20,
   "id": "798fe21e-e633-4a68-8eca-df870a29376d",
   "metadata": {},
   "outputs": [
    {
     "name": "stdout",
     "output_type": "stream",
     "text": [
      "58.0\n",
      "30.0\n",
      "132.0\n"
     ]
    }
   ],
   "source": [
    "for rows in random_array:\n",
    "    summation=np.sum(rows)\n",
    "    print(summation)\n"
   ]
  },
  {
   "cell_type": "code",
   "execution_count": 23,
   "id": "36319f8d-2324-4a26-b087-03a6c59ad052",
   "metadata": {},
   "outputs": [
    {
     "data": {
      "text/plain": [
       "array([[41.,  0.,  0., 17.,  3.,  9.],\n",
       "       [10.,  8., 29., 31., 33., 39.]])"
      ]
     },
     "execution_count": 23,
     "metadata": {},
     "output_type": "execute_result"
    }
   ],
   "source": [
    "random_array.reshape(2,6)"
   ]
  },
  {
   "cell_type": "code",
   "execution_count": 3,
   "id": "d8d95e3e-0a0b-4dcb-91c3-2eb1bd82ecc3",
   "metadata": {},
   "outputs": [
    {
     "data": {
      "text/plain": [
       "array([[8, 2, 3],\n",
       "       [3, 0, 5],\n",
       "       [1, 7, 8]], dtype=int32)"
      ]
     },
     "execution_count": 3,
     "metadata": {},
     "output_type": "execute_result"
    }
   ],
   "source": [
    "#question2\n",
    "matrix1 = np.random.randint(0, 10,size= (3, 3))\n",
    "matrix2 = np.random.randint(0, 10, (3, 3))\n",
    "matrix1\n"
   ]
  },
  {
   "cell_type": "code",
   "execution_count": 25,
   "id": "ed27d098-5420-4f2d-af70-d1d3b9f05863",
   "metadata": {},
   "outputs": [
    {
     "data": {
      "text/plain": [
       "array([[7, 5, 0],\n",
       "       [4, 1, 2],\n",
       "       [0, 7, 2]], dtype=int32)"
      ]
     },
     "execution_count": 25,
     "metadata": {},
     "output_type": "execute_result"
    }
   ],
   "source": [
    "matrix2"
   ]
  },
  {
   "cell_type": "code",
   "execution_count": 26,
   "id": "41b67584-0607-4039-8165-8306415b5c8e",
   "metadata": {},
   "outputs": [
    {
     "data": {
      "text/plain": [
       "array([[ 8, 10,  8],\n",
       "       [ 5,  5, 11],\n",
       "       [ 7, 16,  2]], dtype=int32)"
      ]
     },
     "execution_count": 26,
     "metadata": {},
     "output_type": "execute_result"
    }
   ],
   "source": [
    "matrix1+matrix2"
   ]
  },
  {
   "cell_type": "code",
   "execution_count": 27,
   "id": "7e36d977-a023-4b3e-96d5-f7292af6dfc2",
   "metadata": {},
   "outputs": [
    {
     "data": {
      "text/plain": [
       "array([[-6,  0,  8],\n",
       "       [-3,  3,  7],\n",
       "       [ 7,  2, -2]], dtype=int32)"
      ]
     },
     "execution_count": 27,
     "metadata": {},
     "output_type": "execute_result"
    }
   ],
   "source": [
    "matrix1-matrix2"
   ]
  },
  {
   "cell_type": "code",
   "execution_count": 29,
   "id": "95280338-aaa5-4078-b325-5ec146ee3f89",
   "metadata": {},
   "outputs": [
    {
     "data": {
      "text/plain": [
       "array([[27, 66, 26],\n",
       "       [23, 72, 26],\n",
       "       [85, 44, 18]], dtype=int32)"
      ]
     },
     "execution_count": 29,
     "metadata": {},
     "output_type": "execute_result"
    }
   ],
   "source": [
    "dot_product = np.dot(matrix1, matrix2) \n",
    "dot_product"
   ]
  },
  {
   "cell_type": "code",
   "execution_count": 30,
   "id": "0b3521a5-ca85-471e-be83-a565cee0098a",
   "metadata": {},
   "outputs": [
    {
     "data": {
      "text/plain": [
       "array([[1, 1, 7],\n",
       "       [5, 4, 9],\n",
       "       [8, 9, 0]], dtype=int32)"
      ]
     },
     "execution_count": 30,
     "metadata": {},
     "output_type": "execute_result"
    }
   ],
   "source": [
    "np.transpose(matrix1)"
   ]
  },
  {
   "cell_type": "code",
   "execution_count": 32,
   "id": "20b6bc92-43a6-42a5-b5a1-8870f0f57fe6",
   "metadata": {},
   "outputs": [
    {
     "data": {
      "text/plain": [
       "np.float64(81.99999999999994)"
      ]
     },
     "execution_count": 32,
     "metadata": {},
     "output_type": "execute_result"
    }
   ],
   "source": [
    "np.linalg.det(matrix1)"
   ]
  },
  {
   "cell_type": "code",
   "execution_count": 34,
   "id": "5db9a764-0435-454b-8cff-ef726475ed6a",
   "metadata": {},
   "outputs": [
    {
     "data": {
      "text/plain": [
       "array([[-0.98780488,  0.87804878,  0.15853659],\n",
       "       [ 0.76829268, -0.68292683, -0.01219512],\n",
       "       [-0.23170732,  0.31707317, -0.01219512]])"
      ]
     },
     "execution_count": 34,
     "metadata": {},
     "output_type": "execute_result"
    }
   ],
   "source": [
    "np.linalg.inv(matrix1)"
   ]
  },
  {
   "cell_type": "code",
   "execution_count": null,
   "id": "c17184d8-8b48-455c-afa2-be88c45d4720",
   "metadata": {},
   "outputs": [],
   "source": []
  }
 ],
 "metadata": {
  "kernelspec": {
   "display_name": "Python 3 (ipykernel)",
   "language": "python",
   "name": "python3"
  },
  "language_info": {
   "codemirror_mode": {
    "name": "ipython",
    "version": 3
   },
   "file_extension": ".py",
   "mimetype": "text/x-python",
   "name": "python",
   "nbconvert_exporter": "python",
   "pygments_lexer": "ipython3",
   "version": "3.13.1"
  }
 },
 "nbformat": 4,
 "nbformat_minor": 5
}
